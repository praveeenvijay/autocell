{
 "cells": [
  {
   "cell_type": "code",
   "execution_count": 31,
   "id": "c5d679d7",
   "metadata": {},
   "outputs": [],
   "source": [
    "import pygame"
   ]
  },
  {
   "cell_type": "code",
   "execution_count": 32,
   "id": "7e71a226",
   "metadata": {},
   "outputs": [
    {
     "data": {
      "text/plain": [
       "(5, 0)"
      ]
     },
     "execution_count": 32,
     "metadata": {},
     "output_type": "execute_result"
    }
   ],
   "source": [
    "pygame.init()"
   ]
  },
  {
   "cell_type": "code",
   "execution_count": 165,
   "id": "ff426cc1",
   "metadata": {},
   "outputs": [
    {
     "name": "stdout",
     "output_type": "stream",
     "text": [
      "00010110\n",
      "{'111': '0', '110': '0', '101': '0', '100': '1', '011': '0', '010': '1', '001': '1', '000': '0'}\n",
      "710\n"
     ]
    }
   ],
   "source": [
    "surface_width = 710\n",
    "surface_height= 710\n",
    "\n",
    "\n",
    "surface = pygame.display.set_mode((surface_height,surface_width))\n",
    "dimension = 1\n",
    "num = surface_width//dimension\n",
    "gen = [0]*num\n",
    "gen[num//2] = 1\n",
    "\n",
    "\n",
    "\n",
    "rule = 22\n",
    "rule = str(bin(rule)[2:]).rjust(8,'0')\n",
    "\n",
    "print(rule)\n",
    "ruleset = {}\n",
    "for i in range(7,-1,-1):\n",
    "    item = str(bin(i)[2:]).rjust(3,'0')\n",
    "    ruleset[item] = rule[7-i]\n",
    "print(ruleset)    \n",
    "def next_gen(a,b,c):\n",
    "\n",
    "        return int(ruleset[''+str(a)+str(b)+str(c)])\n",
    "print(num)\n",
    "n_gen = gen.copy()\n",
    "for j in range(num):\n",
    "    for i in range(len(gen)):\n",
    "        pygame.draw.rect(surface, ((1-gen[i])*255,(1-gen[i])*255,(1-gen[i])*255,), pygame.Rect(i*dimension, j*dimension, dimension, dimension))\n",
    "    \n",
    "    pygame.time.wait(5)\n",
    "    pygame.display.flip()\n",
    "    for k in range(len(gen)):\n",
    "        if k == num-1:\n",
    "            n_gen[k] = next_gen(gen[k-1],gen[k],gen[0])\n",
    "        elif k == 0:\n",
    "            n_gen[k] = next_gen(gen[num-1],gen[k],gen[k+1])\n",
    "        else:\n",
    "            n_gen[k] = next_gen(gen[k-1],gen[k],gen[k+1])\n",
    "        \n",
    "    gen = n_gen.copy()\n",
    "    \n"
   ]
  },
  {
   "cell_type": "code",
   "execution_count": 166,
   "id": "f15de3d0",
   "metadata": {},
   "outputs": [],
   "source": [
    "pygame.quit()"
   ]
  },
  {
   "cell_type": "code",
   "execution_count": 88,
   "id": "f379befe",
   "metadata": {},
   "outputs": [],
   "source": []
  },
  {
   "cell_type": "code",
   "execution_count": 76,
   "id": "3df2e722",
   "metadata": {},
   "outputs": [
    {
     "name": "stdout",
     "output_type": "stream",
     "text": [
      "123\n"
     ]
    }
   ],
   "source": [
    "print(''+str(1)+str(2)+str(3))"
   ]
  },
  {
   "cell_type": "code",
   "execution_count": null,
   "id": "f4ff8a0e",
   "metadata": {},
   "outputs": [],
   "source": []
  },
  {
   "cell_type": "code",
   "execution_count": null,
   "id": "e8c80c1c",
   "metadata": {},
   "outputs": [],
   "source": []
  }
 ],
 "metadata": {
  "kernelspec": {
   "display_name": "Python 3 (ipykernel)",
   "language": "python",
   "name": "python3"
  },
  "language_info": {
   "codemirror_mode": {
    "name": "ipython",
    "version": 3
   },
   "file_extension": ".py",
   "mimetype": "text/x-python",
   "name": "python",
   "nbconvert_exporter": "python",
   "pygments_lexer": "ipython3",
   "version": "3.11.5"
  }
 },
 "nbformat": 4,
 "nbformat_minor": 5
}
